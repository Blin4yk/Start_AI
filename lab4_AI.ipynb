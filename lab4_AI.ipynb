{
  "cells": [
    {
      "cell_type": "markdown",
      "source": [
        "ЛАБОРАТОРНАЯ РАБОТА №4 Шелонин Никита Максимович БИВТ-22-СП-5"
      ],
      "metadata": {
        "id": "HURmoAmZHIgn"
      },
      "id": "HURmoAmZHIgn"
    },
    {
      "cell_type": "markdown",
      "id": "28b51062",
      "metadata": {
        "id": "28b51062"
      },
      "source": [
        "## 1. Пример импорта данных. Грузим данные"
      ]
    },
    {
      "cell_type": "code",
      "execution_count": 1,
      "id": "a7f49b77-d4be-4997-8bed-1d74b19fbc3a",
      "metadata": {
        "id": "a7f49b77-d4be-4997-8bed-1d74b19fbc3a"
      },
      "outputs": [],
      "source": [
        "import pandas as pd\n",
        "from sklearn.model_selection import train_test_split\n",
        "from sklearn.preprocessing import OneHotEncoder, StandardScaler, LabelEncoder\n",
        "import numpy as np"
      ]
    },
    {
      "cell_type": "code",
      "execution_count": 2,
      "id": "211af1f0-9484-4d1b-89e9-0671a2e05347",
      "metadata": {
        "id": "211af1f0-9484-4d1b-89e9-0671a2e05347"
      },
      "outputs": [],
      "source": [
        "file_path = r'data.csv'\n",
        "data = pd.read_csv(file_path)"
      ]
    },
    {
      "cell_type": "markdown",
      "id": "0d119028",
      "metadata": {
        "id": "0d119028"
      },
      "source": [
        "## 2. Понимаем, какая перед нами задача"
      ]
    },
    {
      "cell_type": "code",
      "execution_count": 3,
      "id": "137ac8be-2282-4e56-8c83-38be437f505c",
      "metadata": {
        "colab": {
          "base_uri": "https://localhost:8080/"
        },
        "id": "137ac8be-2282-4e56-8c83-38be437f505c",
        "outputId": "d02c6577-e27e-4f91-b8ff-d58642f924b3"
      },
      "outputs": [
        {
          "output_type": "stream",
          "name": "stdout",
          "text": [
            "Образец данных:\n",
            "        EducationSector IndividualProject  Age Gender City Influenced  \\\n",
            "0  Engineering Sciences                No   19   Male  Yes         No   \n",
            "1  Engineering Sciences               Yes   22   Male   No        Yes   \n",
            "2  Engineering Sciences                No   18   Male  Yes         No   \n",
            "3  Engineering Sciences               Yes   20   Male  Yes        Yes   \n",
            "4  Engineering Sciences               Yes   19   Male  Yes        Yes   \n",
            "\n",
            "   Perseverance  DesireToTakeInitiative  Competitiveness  SelfReliance  \\\n",
            "0             2                       2                3             3   \n",
            "1             3                       3                3             4   \n",
            "2             3                       4                3             3   \n",
            "3             3                       3                3             3   \n",
            "4             2                       3                3             3   \n",
            "\n",
            "   StrongNeedToAchieve  SelfConfidence  GoodPhysicalHealth MentalDisorder  \\\n",
            "0                    2               2                   3            Yes   \n",
            "1                    4               3                   4            Yes   \n",
            "2                    3               4                   4             No   \n",
            "3                    4               3                   3             No   \n",
            "4                    4               3                   2            Yes   \n",
            "\n",
            "    KeyTraits                                     ReasonsForLack  y  \n",
            "0     Passion                                                NaN  1  \n",
            "1      Vision  Just not interested! (Want to work in the corp...  0  \n",
            "2     Passion  Not willing to start a venture in India and wa...  0  \n",
            "3  Resilience                  Not able to take a Financial Risk  0  \n",
            "4      Vision                                                NaN  1  \n"
          ]
        }
      ],
      "source": [
        "print(\"Образец данных:\")\n",
        "print(data.head())"
      ]
    },
    {
      "cell_type": "code",
      "execution_count": 4,
      "id": "118f0be1-8587-44cb-8e07-448d919d9c26",
      "metadata": {
        "colab": {
          "base_uri": "https://localhost:8080/",
          "height": 617
        },
        "id": "118f0be1-8587-44cb-8e07-448d919d9c26",
        "outputId": "f15beb92-9d7c-45a7-b0ff-1d1b0b237a2b"
      },
      "outputs": [
        {
          "output_type": "execute_result",
          "data": {
            "text/plain": [
              "EducationSector            0\n",
              "IndividualProject          0\n",
              "Age                        0\n",
              "Gender                     0\n",
              "City                       0\n",
              "Influenced                 0\n",
              "Perseverance               0\n",
              "DesireToTakeInitiative     0\n",
              "Competitiveness            0\n",
              "SelfReliance               0\n",
              "StrongNeedToAchieve        0\n",
              "SelfConfidence             0\n",
              "GoodPhysicalHealth         0\n",
              "MentalDisorder             0\n",
              "KeyTraits                  0\n",
              "ReasonsForLack            91\n",
              "y                          0\n",
              "dtype: int64"
            ],
            "text/html": [
              "<div>\n",
              "<style scoped>\n",
              "    .dataframe tbody tr th:only-of-type {\n",
              "        vertical-align: middle;\n",
              "    }\n",
              "\n",
              "    .dataframe tbody tr th {\n",
              "        vertical-align: top;\n",
              "    }\n",
              "\n",
              "    .dataframe thead th {\n",
              "        text-align: right;\n",
              "    }\n",
              "</style>\n",
              "<table border=\"1\" class=\"dataframe\">\n",
              "  <thead>\n",
              "    <tr style=\"text-align: right;\">\n",
              "      <th></th>\n",
              "      <th>0</th>\n",
              "    </tr>\n",
              "  </thead>\n",
              "  <tbody>\n",
              "    <tr>\n",
              "      <th>EducationSector</th>\n",
              "      <td>0</td>\n",
              "    </tr>\n",
              "    <tr>\n",
              "      <th>IndividualProject</th>\n",
              "      <td>0</td>\n",
              "    </tr>\n",
              "    <tr>\n",
              "      <th>Age</th>\n",
              "      <td>0</td>\n",
              "    </tr>\n",
              "    <tr>\n",
              "      <th>Gender</th>\n",
              "      <td>0</td>\n",
              "    </tr>\n",
              "    <tr>\n",
              "      <th>City</th>\n",
              "      <td>0</td>\n",
              "    </tr>\n",
              "    <tr>\n",
              "      <th>Influenced</th>\n",
              "      <td>0</td>\n",
              "    </tr>\n",
              "    <tr>\n",
              "      <th>Perseverance</th>\n",
              "      <td>0</td>\n",
              "    </tr>\n",
              "    <tr>\n",
              "      <th>DesireToTakeInitiative</th>\n",
              "      <td>0</td>\n",
              "    </tr>\n",
              "    <tr>\n",
              "      <th>Competitiveness</th>\n",
              "      <td>0</td>\n",
              "    </tr>\n",
              "    <tr>\n",
              "      <th>SelfReliance</th>\n",
              "      <td>0</td>\n",
              "    </tr>\n",
              "    <tr>\n",
              "      <th>StrongNeedToAchieve</th>\n",
              "      <td>0</td>\n",
              "    </tr>\n",
              "    <tr>\n",
              "      <th>SelfConfidence</th>\n",
              "      <td>0</td>\n",
              "    </tr>\n",
              "    <tr>\n",
              "      <th>GoodPhysicalHealth</th>\n",
              "      <td>0</td>\n",
              "    </tr>\n",
              "    <tr>\n",
              "      <th>MentalDisorder</th>\n",
              "      <td>0</td>\n",
              "    </tr>\n",
              "    <tr>\n",
              "      <th>KeyTraits</th>\n",
              "      <td>0</td>\n",
              "    </tr>\n",
              "    <tr>\n",
              "      <th>ReasonsForLack</th>\n",
              "      <td>91</td>\n",
              "    </tr>\n",
              "    <tr>\n",
              "      <th>y</th>\n",
              "      <td>0</td>\n",
              "    </tr>\n",
              "  </tbody>\n",
              "</table>\n",
              "</div><br><label><b>dtype:</b> int64</label>"
            ]
          },
          "metadata": {},
          "execution_count": 4
        }
      ],
      "source": [
        "data.isnull().sum()"
      ]
    },
    {
      "cell_type": "code",
      "execution_count": 5,
      "id": "2d96c960-95f1-441d-a9e8-9da830d392be",
      "metadata": {
        "id": "2d96c960-95f1-441d-a9e8-9da830d392be"
      },
      "outputs": [],
      "source": [
        "data.drop(columns=['ReasonsForLack'], inplace=True)"
      ]
    },
    {
      "cell_type": "markdown",
      "id": "34931f43",
      "metadata": {
        "id": "34931f43"
      },
      "source": [
        "## 3. Делаем предобработку данных"
      ]
    },
    {
      "cell_type": "code",
      "execution_count": 6,
      "id": "88ccb334-2e03-4706-97d1-6dcfbcb23484",
      "metadata": {
        "colab": {
          "base_uri": "https://localhost:8080/"
        },
        "id": "88ccb334-2e03-4706-97d1-6dcfbcb23484",
        "outputId": "ff88f88d-8836-4b45-9f40-8210edf75a9a"
      },
      "outputs": [
        {
          "output_type": "stream",
          "name": "stdout",
          "text": [
            "Размеры тренировочной выборки: (175, 33), Тестовой выборки: (44, 33)\n"
          ]
        }
      ],
      "source": [
        "# Кодировка целевой переменной\n",
        "label_encoder = LabelEncoder()\n",
        "data['Adaptivity Level'] = label_encoder.fit_transform(data['y'])\n",
        "\n",
        "# Разделение данных на признаки и целевую переменную\n",
        "X = data.drop(columns=['y'])\n",
        "y = data['y']\n",
        "\n",
        "# Разделение данных на тренировочную и тестовую выборки\n",
        "X_train, X_test, y_train, y_test = train_test_split(\n",
        "    X, y, test_size=0.2, random_state=42, stratify=y\n",
        ")\n",
        "\n",
        "# Определение категориальных и числовых столбцов\n",
        "categorical_columns = X_train.select_dtypes(include=['object']).columns\n",
        "numerical_columns = X_train.select_dtypes(include=['int64', 'float64']).columns\n",
        "\n",
        "# OneHotEncoder для категориальных данных\n",
        "ohe = OneHotEncoder(handle_unknown='ignore', sparse_output=False)\n",
        "X_train_categorical = ohe.fit_transform(X_train[categorical_columns])\n",
        "X_test_categorical = ohe.transform(X_test[categorical_columns])\n",
        "\n",
        "# StandardScaler для числовых данных (если есть)\n",
        "scaler = StandardScaler()\n",
        "if len(numerical_columns) > 0:\n",
        "    X_train_numerical = scaler.fit_transform(X_train[numerical_columns])\n",
        "    X_test_numerical = scaler.transform(X_test[numerical_columns])\n",
        "else:\n",
        "    X_train_numerical = np.array([]).reshape(X_train_categorical.shape[0], 0)\n",
        "    X_test_numerical = np.array([]).reshape(X_test_categorical.shape[0], 0)\n",
        "\n",
        "# Объединение обработанных данных\n",
        "X_train_processed = np.hstack([X_train_categorical, X_train_numerical])\n",
        "X_test_processed = np.hstack([X_test_categorical, X_test_numerical])\n",
        "\n",
        "# Вывод размеров обработанных данных\n",
        "print(f\"Размеры тренировочной выборки: {X_train_processed.shape}, Тестовой выборки: {X_test_processed.shape}\")"
      ]
    },
    {
      "cell_type": "markdown",
      "id": "c679b641-7adf-4ee9-9253-ea04cec4eb3b",
      "metadata": {
        "id": "c679b641-7adf-4ee9-9253-ea04cec4eb3b"
      },
      "source": [
        "# 4. Оформить данные в виде класса Dataset из библиотеки torch (как мы это делали на семинаре), а затем засунуть в Dataloader (тоже делали на семинаре)."
      ]
    },
    {
      "cell_type": "code",
      "execution_count": 7,
      "id": "45d3a504-dbf3-45c3-9844-2754da4902ff",
      "metadata": {
        "id": "45d3a504-dbf3-45c3-9844-2754da4902ff"
      },
      "outputs": [],
      "source": [
        "import torch\n",
        "from torch.utils.data import Dataset, DataLoader\n",
        "\n",
        "# Определение класса Dataset\n",
        "class AdaptivityDataset(Dataset):\n",
        "    def __init__(self, features, labels):\n",
        "        self.features = torch.tensor(features, dtype=torch.float32)\n",
        "        self.labels = torch.tensor(labels.values, dtype=torch.long)\n",
        "\n",
        "    def __len__(self):\n",
        "        return len(self.labels)\n",
        "\n",
        "    def __getitem__(self, idx):\n",
        "        return self.features[idx], self.labels[idx]\n",
        "\n",
        "# Создание объектов Dataset\n",
        "train_dataset = AdaptivityDataset(X_train_processed, y_train)\n",
        "test_dataset = AdaptivityDataset(X_test_processed, y_test)\n",
        "\n",
        "# Создание DataLoader\n",
        "train_loader = DataLoader(train_dataset, batch_size=32, shuffle=True)\n",
        "test_loader = DataLoader(test_dataset, batch_size=32, shuffle=False)"
      ]
    },
    {
      "cell_type": "markdown",
      "id": "01586989-f738-4a27-9d8c-ed86dd63ed52",
      "metadata": {
        "id": "01586989-f738-4a27-9d8c-ed86dd63ed52"
      },
      "source": [
        "# 5. Создание и обучение простой однослойной нейронной сети"
      ]
    },
    {
      "cell_type": "code",
      "execution_count": 8,
      "id": "a6d08f32-d717-441b-8fe0-17df6b8c6d5a",
      "metadata": {
        "colab": {
          "base_uri": "https://localhost:8080/",
          "height": 819
        },
        "id": "a6d08f32-d717-441b-8fe0-17df6b8c6d5a",
        "outputId": "120f7023-5a15-41e0-97e4-a86e1dacdbb6"
      },
      "outputs": [
        {
          "output_type": "stream",
          "name": "stdout",
          "text": [
            "Epoch 1/20, Train Loss: 0.8166, Test Loss: 0.8070\n",
            "Epoch 2/20, Train Loss: 0.7635, Test Loss: 0.7667\n",
            "Epoch 3/20, Train Loss: 0.7246, Test Loss: 0.7298\n",
            "Epoch 4/20, Train Loss: 0.6956, Test Loss: 0.6927\n",
            "Epoch 5/20, Train Loss: 0.6601, Test Loss: 0.6600\n",
            "Epoch 6/20, Train Loss: 0.6391, Test Loss: 0.6289\n",
            "Epoch 7/20, Train Loss: 0.6044, Test Loss: 0.6011\n",
            "Epoch 8/20, Train Loss: 0.5848, Test Loss: 0.5762\n",
            "Epoch 9/20, Train Loss: 0.5577, Test Loss: 0.5528\n",
            "Epoch 10/20, Train Loss: 0.5341, Test Loss: 0.5308\n",
            "Epoch 11/20, Train Loss: 0.5154, Test Loss: 0.5105\n",
            "Epoch 12/20, Train Loss: 0.4984, Test Loss: 0.4913\n",
            "Epoch 13/20, Train Loss: 0.4782, Test Loss: 0.4735\n",
            "Epoch 14/20, Train Loss: 0.4613, Test Loss: 0.4573\n",
            "Epoch 15/20, Train Loss: 0.4439, Test Loss: 0.4405\n",
            "Epoch 16/20, Train Loss: 0.4312, Test Loss: 0.4259\n",
            "Epoch 17/20, Train Loss: 0.4188, Test Loss: 0.4112\n",
            "Epoch 18/20, Train Loss: 0.4029, Test Loss: 0.3983\n",
            "Epoch 19/20, Train Loss: 0.3869, Test Loss: 0.3857\n",
            "Epoch 20/20, Train Loss: 0.3743, Test Loss: 0.3734\n"
          ]
        },
        {
          "output_type": "display_data",
          "data": {
            "text/plain": [
              "<Figure size 640x480 with 1 Axes>"
            ],
            "image/png": "[encoded data removed]"
          },
          "metadata": {}
        }
      ],
      "source": [
        "\n",
        "import torch.nn as nn\n",
        "import torch.optim as optim\n",
        "import matplotlib.pyplot as plt\n",
        "\n",
        "# Однослойная нейросеть\n",
        "class SimpleNN(nn.Module):\n",
        "    def __init__(self, input_size, output_size):\n",
        "        super(SimpleNN, self).__init__()\n",
        "        self.fc = nn.Linear(input_size, output_size)\n",
        "\n",
        "    def forward(self, x):\n",
        "        return self.fc(x)\n",
        "\n",
        "# Определение гиперпараметров\n",
        "input_size = X_train_processed.shape[1]  # Количество признаков\n",
        "output_size = len(label_encoder.classes_)  # Количество классов\n",
        "learning_rate = 0.01\n",
        "num_epochs = 20\n",
        "\n",
        "# Инициализация модели, функции потерь и оптимизатора\n",
        "model = SimpleNN(input_size, output_size)\n",
        "criterion = nn.CrossEntropyLoss()\n",
        "optimizer = optim.SGD(model.parameters(), lr=learning_rate)\n",
        "\n",
        "# Списки для хранения значений потерь\n",
        "train_losses = []\n",
        "test_losses = []\n",
        "\n",
        "# Функция для вычисления потерь\n",
        "def compute_loss(dataloader):\n",
        "    model.eval()\n",
        "    total_loss = 0\n",
        "    with torch.no_grad():\n",
        "        for features, labels in dataloader:\n",
        "            outputs = model(features)\n",
        "            loss = criterion(outputs, labels)\n",
        "            total_loss += loss.item()\n",
        "    return total_loss / len(dataloader)\n",
        "\n",
        "# Обучение модели\n",
        "for epoch in range(num_epochs):\n",
        "    model.train()\n",
        "    epoch_loss = 0\n",
        "    for features, labels in train_loader:\n",
        "        optimizer.zero_grad()\n",
        "        outputs = model(features)\n",
        "        loss = criterion(outputs, labels)\n",
        "        loss.backward()\n",
        "        optimizer.step()\n",
        "        epoch_loss += loss.item()\n",
        "\n",
        "    train_losses.append(epoch_loss / len(train_loader))\n",
        "    test_losses.append(compute_loss(test_loader))\n",
        "\n",
        "    print(f\"Epoch {epoch+1}/{num_epochs}, Train Loss: {train_losses[-1]:.4f}, Test Loss: {test_losses[-1]:.4f}\")\n",
        "\n",
        "# Построение кривой обучения\n",
        "plt.plot(range(1, num_epochs + 1), train_losses, label=\"Train Loss\")\n",
        "plt.plot(range(1, num_epochs + 1), test_losses, label=\"Test Loss\")\n",
        "plt.xlabel(\"Epochs\")\n",
        "plt.ylabel(\"Loss\")\n",
        "plt.title(\"Learning Curve\")\n",
        "plt.legend()\n",
        "plt.show()"
      ]
    },
    {
      "cell_type": "markdown",
      "id": "8e6cd289-aefe-45dd-92f1-be3ddca1cf21",
      "metadata": {
        "id": "8e6cd289-aefe-45dd-92f1-be3ddca1cf21"
      },
      "source": [
        "# 6.  Создание и обучение более сложной модели с одним скрытым слоем"
      ]
    },
    {
      "cell_type": "code",
      "execution_count": 9,
      "id": "8af1148f-de79-46a6-8907-c7b6539b9117",
      "metadata": {
        "colab": {
          "base_uri": "https://localhost:8080/",
          "height": 819
        },
        "id": "8af1148f-de79-46a6-8907-c7b6539b9117",
        "outputId": "67b3ac68-b636-4c7f-f09c-b7230c5f6d48"
      },
      "outputs": [
        {
          "output_type": "stream",
          "name": "stdout",
          "text": [
            "Epoch 1/20, Train Loss: 0.6486, Test Loss: 0.6335\n",
            "Epoch 2/20, Train Loss: 0.6074, Test Loss: 0.6046\n",
            "Epoch 3/20, Train Loss: 0.5854, Test Loss: 0.5758\n",
            "Epoch 4/20, Train Loss: 0.5481, Test Loss: 0.5469\n",
            "Epoch 5/20, Train Loss: 0.5195, Test Loss: 0.5152\n",
            "Epoch 6/20, Train Loss: 0.4832, Test Loss: 0.4834\n",
            "Epoch 7/20, Train Loss: 0.4424, Test Loss: 0.4480\n",
            "Epoch 8/20, Train Loss: 0.4107, Test Loss: 0.4105\n",
            "Epoch 9/20, Train Loss: 0.3731, Test Loss: 0.3730\n",
            "Epoch 10/20, Train Loss: 0.3363, Test Loss: 0.3362\n",
            "Epoch 11/20, Train Loss: 0.3024, Test Loss: 0.3004\n",
            "Epoch 12/20, Train Loss: 0.2690, Test Loss: 0.2669\n",
            "Epoch 13/20, Train Loss: 0.2355, Test Loss: 0.2341\n",
            "Epoch 14/20, Train Loss: 0.2070, Test Loss: 0.2048\n",
            "Epoch 15/20, Train Loss: 0.1816, Test Loss: 0.1782\n",
            "Epoch 16/20, Train Loss: 0.1575, Test Loss: 0.1559\n",
            "Epoch 17/20, Train Loss: 0.1353, Test Loss: 0.1368\n",
            "Epoch 18/20, Train Loss: 0.1174, Test Loss: 0.1195\n",
            "Epoch 19/20, Train Loss: 0.1031, Test Loss: 0.1048\n",
            "Epoch 20/20, Train Loss: 0.0897, Test Loss: 0.0920\n"
          ]
        },
        {
          "output_type": "display_data",
          "data": {
            "text/plain": [
              "<Figure size 640x480 with 1 Axes>"
            ],
            "image/png": "[encoded data removed]"
          },
          "metadata": {}
        }
      ],
      "source": [
        "\n",
        "# Нейросеть с одним скрытым слоем\n",
        "class HiddenLayerNN(nn.Module):\n",
        "    def __init__(self, input_size, hidden_size, output_size):\n",
        "        super(HiddenLayerNN, self).__init__()\n",
        "        self.fc1 = nn.Linear(input_size, hidden_size)\n",
        "        self.relu = nn.ReLU()\n",
        "        self.fc2 = nn.Linear(hidden_size, output_size)\n",
        "\n",
        "    def forward(self, x):\n",
        "        x = self.fc1(x)\n",
        "        x = self.relu(x)\n",
        "        x = self.fc2(x)\n",
        "        return x\n",
        "\n",
        "# Определение гиперпараметров для новой модели\n",
        "hidden_size = 64  # Размер скрытого слоя\n",
        "learning_rate = 0.001\n",
        "num_epochs = 20\n",
        "\n",
        "# Инициализация модели, функции потерь и оптимизатора\n",
        "model = HiddenLayerNN(input_size, hidden_size, output_size)\n",
        "criterion = nn.CrossEntropyLoss()\n",
        "optimizer = optim.Adam(model.parameters(), lr=learning_rate)\n",
        "\n",
        "# Списки для хранения значений потерь\n",
        "train_losses = []\n",
        "test_losses = []\n",
        "\n",
        "# Обучение модели с одним скрытым слоем\n",
        "for epoch in range(num_epochs):\n",
        "    model.train()\n",
        "    epoch_loss = 0\n",
        "    for features, labels in train_loader:\n",
        "        optimizer.zero_grad()\n",
        "        outputs = model(features)\n",
        "        loss = criterion(outputs, labels)\n",
        "        loss.backward()\n",
        "        optimizer.step()\n",
        "        epoch_loss += loss.item()\n",
        "\n",
        "    train_losses.append(epoch_loss / len(train_loader))\n",
        "    test_losses.append(compute_loss(test_loader))\n",
        "\n",
        "    print(f\"Epoch {epoch+1}/{num_epochs}, Train Loss: {train_losses[-1]:.4f}, Test Loss: {test_losses[-1]:.4f}\")\n",
        "\n",
        "# Построение кривой обучения\n",
        "plt.plot(range(1, num_epochs + 1), train_losses, label=\"Train Loss\")\n",
        "plt.plot(range(1, num_epochs + 1), test_losses, label=\"Test Loss\")\n",
        "plt.xlabel(\"Epochs\")\n",
        "plt.ylabel(\"Loss\")\n",
        "plt.title(\"Learning Curve (Hidden Layer NN)\")\n",
        "plt.legend()\n",
        "plt.show()"
      ]
    },
    {
      "cell_type": "markdown",
      "id": "e71be352-205f-4b13-850f-988f3508128f",
      "metadata": {
        "id": "e71be352-205f-4b13-850f-988f3508128f"
      },
      "source": [
        "# 7. Создание и обучение более сложной модели с 3+ скрытыми слоями"
      ]
    },
    {
      "cell_type": "code",
      "execution_count": 10,
      "id": "2c849a7b-5545-4aa2-b4f6-f542bd8d977a",
      "metadata": {
        "colab": {
          "base_uri": "https://localhost:8080/",
          "height": 819
        },
        "id": "2c849a7b-5545-4aa2-b4f6-f542bd8d977a",
        "outputId": "570d79b0-98c2-4471-feef-fcf210e60bf8"
      },
      "outputs": [
        {
          "output_type": "stream",
          "name": "stdout",
          "text": [
            "Epoch 1/20, Train Loss: 0.6930, Test Loss: 0.6639\n",
            "Epoch 2/20, Train Loss: 0.6548, Test Loss: 0.6183\n",
            "Epoch 3/20, Train Loss: 0.6001, Test Loss: 0.5466\n",
            "Epoch 4/20, Train Loss: 0.5109, Test Loss: 0.4394\n",
            "Epoch 5/20, Train Loss: 0.3888, Test Loss: 0.3017\n",
            "Epoch 6/20, Train Loss: 0.2401, Test Loss: 0.1645\n",
            "Epoch 7/20, Train Loss: 0.1144, Test Loss: 0.0707\n",
            "Epoch 8/20, Train Loss: 0.0438, Test Loss: 0.0277\n",
            "Epoch 9/20, Train Loss: 0.0157, Test Loss: 0.0116\n",
            "Epoch 10/20, Train Loss: 0.0063, Test Loss: 0.0057\n",
            "Epoch 11/20, Train Loss: 0.0032, Test Loss: 0.0035\n",
            "Epoch 12/20, Train Loss: 0.0020, Test Loss: 0.0025\n",
            "Epoch 13/20, Train Loss: 0.0014, Test Loss: 0.0020\n",
            "Epoch 14/20, Train Loss: 0.0011, Test Loss: 0.0017\n",
            "Epoch 15/20, Train Loss: 0.0009, Test Loss: 0.0015\n",
            "Epoch 16/20, Train Loss: 0.0008, Test Loss: 0.0013\n",
            "Epoch 17/20, Train Loss: 0.0007, Test Loss: 0.0012\n",
            "Epoch 18/20, Train Loss: 0.0006, Test Loss: 0.0011\n",
            "Epoch 19/20, Train Loss: 0.0006, Test Loss: 0.0010\n",
            "Epoch 20/20, Train Loss: 0.0006, Test Loss: 0.0010\n"
          ]
        },
        {
          "output_type": "display_data",
          "data": {
            "text/plain": [
              "<Figure size 640x480 with 1 Axes>"
            ],
            "image/png": "[encoded data removed]"
          },
          "metadata": {}
        }
      ],
      "source": [
        "\n",
        "# Нейросеть с тремя скрытыми слоями\n",
        "class DeepNN(nn.Module):\n",
        "    def __init__(self, input_size, hidden_sizes, output_size):\n",
        "        super(DeepNN, self).__init__()\n",
        "        self.fc1 = nn.Linear(input_size, hidden_sizes[0])\n",
        "        self.relu1 = nn.ReLU()\n",
        "        self.fc2 = nn.Linear(hidden_sizes[0], hidden_sizes[1])\n",
        "        self.relu2 = nn.ReLU()\n",
        "        self.fc3 = nn.Linear(hidden_sizes[1], hidden_sizes[2])\n",
        "        self.relu3 = nn.ReLU()\n",
        "        self.fc4 = nn.Linear(hidden_sizes[2], output_size)\n",
        "\n",
        "    def forward(self, x):\n",
        "        x = self.fc1(x)\n",
        "        x = self.relu1(x)\n",
        "        x = self.fc2(x)\n",
        "        x = self.relu2(x)\n",
        "        x = self.fc3(x)\n",
        "        x = self.relu3(x)\n",
        "        x = self.fc4(x)\n",
        "        return x\n",
        "\n",
        "# Определение гиперпараметров для более сложной модели\n",
        "hidden_sizes = [128, 64, 32]  # Размеры скрытых слоев\n",
        "learning_rate = 0.001\n",
        "num_epochs = 20\n",
        "\n",
        "# Инициализация модели, функции потерь и оптимизатора\n",
        "model = DeepNN(input_size, hidden_sizes, output_size)\n",
        "criterion = nn.CrossEntropyLoss()\n",
        "optimizer = optim.Adam(model.parameters(), lr=learning_rate)\n",
        "\n",
        "# Списки для хранения значений потерь\n",
        "train_losses = []\n",
        "test_losses = []\n",
        "\n",
        "# Обучение модели с тремя скрытыми слоями\n",
        "for epoch in range(num_epochs):\n",
        "    model.train()\n",
        "    epoch_loss = 0\n",
        "    for features, labels in train_loader:\n",
        "        optimizer.zero_grad()\n",
        "        outputs = model(features)\n",
        "        loss = criterion(outputs, labels)\n",
        "        loss.backward()\n",
        "        optimizer.step()\n",
        "        epoch_loss += loss.item()\n",
        "\n",
        "    train_losses.append(epoch_loss / len(train_loader))\n",
        "    test_losses.append(compute_loss(test_loader))\n",
        "\n",
        "    print(f\"Epoch {epoch+1}/{num_epochs}, Train Loss: {train_losses[-1]:.4f}, Test Loss: {test_losses[-1]:.4f}\")\n",
        "\n",
        "# Построение кривой обучения\n",
        "plt.plot(range(1, num_epochs + 1), train_losses, label=\"Train Loss\")\n",
        "plt.plot(range(1, num_epochs + 1), test_losses, label=\"Test Loss\")\n",
        "plt.xlabel(\"Epochs\")\n",
        "plt.ylabel(\"Loss\")\n",
        "plt.title(\"Learning Curve (Deep NN)\")\n",
        "plt.legend()\n",
        "plt.show()"
      ]
    },
    {
      "cell_type": "markdown",
      "id": "33bb54dc-84d3-4690-9ea5-f59633a33f4c",
      "metadata": {
        "id": "33bb54dc-84d3-4690-9ea5-f59633a33f4c"
      },
      "source": [
        "# 8. Сравнение метрик моделей"
      ]
    },
    {
      "cell_type": "code",
      "execution_count": 11,
      "id": "7a866bbb-f01e-4d2c-a630-d9c1fcdcd430",
      "metadata": {
        "colab": {
          "base_uri": "https://localhost:8080/"
        },
        "id": "7a866bbb-f01e-4d2c-a630-d9c1fcdcd430",
        "outputId": "d137b63e-6180-48e4-8e64-4f6992cf2b9c"
      },
      "outputs": [
        {
          "output_type": "stream",
          "name": "stdout",
          "text": [
            "Сравнение метрик моделей:\n",
            "           Model  Train Accuracy  Test Accuracy\n",
            "0       SimpleNN        0.542857       0.500000\n",
            "1  HiddenLayerNN        0.588571       0.568182\n",
            "2         DeepNN        0.417143       0.409091\n"
          ]
        }
      ],
      "source": [
        "from sklearn.metrics import accuracy_score\n",
        "\n",
        "# Функция для оценки модели\n",
        "def evaluate_model(model, dataloader):\n",
        "    model.eval()\n",
        "    all_preds = []\n",
        "    all_labels = []\n",
        "    with torch.no_grad():\n",
        "        for features, labels in dataloader:\n",
        "            outputs = model(features)\n",
        "            _, preds = torch.max(outputs, dim=1)\n",
        "            all_preds.extend(preds.cpu().numpy())\n",
        "            all_labels.extend(labels.cpu().numpy())\n",
        "    return accuracy_score(all_labels, all_preds)\n",
        "\n",
        "# Сравнение моделей\n",
        "models = {\n",
        "    \"SimpleNN\": SimpleNN(input_size, output_size),\n",
        "    \"HiddenLayerNN\": HiddenLayerNN(input_size, hidden_size, output_size),\n",
        "    \"DeepNN\": DeepNN(input_size, hidden_sizes, output_size)\n",
        "}\n",
        "\n",
        "# Загрузим состояния моделей, если они были сохранены\n",
        "# Если нет сохраненных моделей, пропустите эти строки\n",
        "# models[\"SimpleNN\"].load_state_dict(torch.load(\"simple_nn_model.pth\"))\n",
        "# models[\"HiddenLayerNN\"].load_state_dict(torch.load(\"hidden_layer_model.pth\"))\n",
        "# models[\"DeepNN\"].load_state_dict(torch.load(\"deep_nn_model.pth\"))\n",
        "\n",
        "results = {\n",
        "    \"Model\": [],\n",
        "    \"Train Accuracy\": [],\n",
        "    \"Test Accuracy\": []\n",
        "}\n",
        "\n",
        "# Вычисление Accuracy для каждой модели\n",
        "for name, model in models.items():\n",
        "    results[\"Model\"].append(name)\n",
        "    results[\"Train Accuracy\"].append(evaluate_model(model, train_loader))\n",
        "    results[\"Test Accuracy\"].append(evaluate_model(model, test_loader))\n",
        "\n",
        "# Сравнение результатов\n",
        "import pandas as pd\n",
        "results_df = pd.DataFrame(results)\n",
        "print(\"Сравнение метрик моделей:\")\n",
        "print(results_df)\n"
      ]
    },
    {
      "cell_type": "code",
      "execution_count": null,
      "id": "30dd5719-2010-4a83-b5b0-e0d099e0beeb",
      "metadata": {
        "id": "30dd5719-2010-4a83-b5b0-e0d099e0beeb"
      },
      "outputs": [],
      "source": []
    }
  ],
  "metadata": {
    "kernelspec": {
      "display_name": "Python 3 (ipykernel)",
      "language": "python",
      "name": "python3"
    },
    "language_info": {
      "codemirror_mode": {
        "name": "ipython",
        "version": 3
      },
      "file_extension": ".py",
      "mimetype": "text/x-python",
      "name": "python",
      "nbconvert_exporter": "python",
      "pygments_lexer": "ipython3",
      "version": "3.12.6"
    },
    "colab": {
      "provenance": []
    }
  },
  "nbformat": 4,
  "nbformat_minor": 5
}